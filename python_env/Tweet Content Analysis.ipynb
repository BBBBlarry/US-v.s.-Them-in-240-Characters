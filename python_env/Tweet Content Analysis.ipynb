{
 "cells": [
  {
   "cell_type": "code",
   "execution_count": 1,
   "metadata": {},
   "outputs": [],
   "source": [
    "import json\n",
    "import pandas as pd\n",
    "from collections import Counter\n",
    "from nltk.tokenize.casual import TweetTokenizer\n",
    "tokenizer = TweetTokenizer()\n",
    "\n",
    "import seaborn as sns\n",
    "sns.set(rc={'figure.figsize':(11.7,8.27)})"
   ]
  },
  {
   "cell_type": "markdown",
   "metadata": {},
   "source": [
    "# Read Tweets and Meta Data"
   ]
  },
  {
   "cell_type": "code",
   "execution_count": 2,
   "metadata": {},
   "outputs": [],
   "source": [
    "tweet_json_file = \"./data/all_tweets_with_meta.json\"\n",
    "with open(tweet_json_file, 'r') as f:\n",
    "    long_tweets = json.load(f)"
   ]
  },
  {
   "cell_type": "code",
   "execution_count": 3,
   "metadata": {},
   "outputs": [],
   "source": [
    "tweets = []\n",
    "for tweet in long_tweets:\n",
    "    tweets.append({\n",
    "        'created_at': tweet['created_at'], \n",
    "        'text': tweet['text'],\n",
    "        'in_reply_to_user_id': tweet['in_reply_to_screen_name'],\n",
    "        'user': tweet['user']['screen_name'].lower(), \n",
    "        'favorite_count': tweet['favorite_count'],\n",
    "        'retweet_count': tweet['retweet_count']})"
   ]
  },
  {
   "cell_type": "markdown",
   "metadata": {},
   "source": [
    "# Read Candidate Relations"
   ]
  },
  {
   "cell_type": "code",
   "execution_count": 4,
   "metadata": {},
   "outputs": [],
   "source": [
    "candidate_jsonlist_file = \"./2014_us_gubernatorial_election_candidates_with_twitter.jsonlist\"\n",
    "candidates = []\n",
    "with open(candidate_jsonlist_file, 'r') as f:\n",
    "    for line in f:\n",
    "        candidates.append(json.loads(line))"
   ]
  },
  {
   "cell_type": "markdown",
   "metadata": {},
   "source": [
    "## Build Opponent Relationship"
   ]
  },
  {
   "cell_type": "code",
   "execution_count": 5,
   "metadata": {},
   "outputs": [],
   "source": [
    "state_to_candidates = {}\n",
    "for c in candidates:\n",
    "    state = c['state']\n",
    "    if state not in state_to_candidates:\n",
    "        state_to_candidates[state] = set()\n",
    "    state_to_candidates[state].add((c['name'].lower(), c['twitter'].lower()))"
   ]
  },
  {
   "cell_type": "code",
   "execution_count": 6,
   "metadata": {},
   "outputs": [],
   "source": [
    "opponents = {}\n",
    "\n",
    "# candidate relationship\n",
    "for c in candidates:\n",
    "    # key in by twitter handle\n",
    "    t = c['twitter'].lower()\n",
    "    if not t:\n",
    "        continue\n",
    "    if t not in opponents:\n",
    "        opponents[t] = set()\n",
    "        \n",
    "    state_wide_opponents = state_to_candidates[c['state']]\n",
    "    for name, twitter in state_wide_opponents:\n",
    "        if twitter == t:\n",
    "            continue\n",
    "        if not twitter:\n",
    "            continue\n",
    "        \n",
    "        opponents[t].add(\"@\" + twitter.lower())\n",
    "        for name_component in name.split():\n",
    "            if name_component:\n",
    "                opponents[t].add(name_component.lower())"
   ]
  },
  {
   "cell_type": "markdown",
   "metadata": {},
   "source": [
    "# Attack Tweets"
   ]
  },
  {
   "cell_type": "code",
   "execution_count": 7,
   "metadata": {
    "scrolled": true
   },
   "outputs": [
    {
     "name": "stdout",
     "output_type": "stream",
     "text": [
      "11.62% of tweets are attack tweets\n"
     ]
    }
   ],
   "source": [
    "attacking = []\n",
    "for tweet in tweets:\n",
    "    user = tweet['user']\n",
    "    oppo = opponents[user]\n",
    "    text = tweet['text']\n",
    "    \n",
    "    tokenzied = tokenizer.tokenize(text)\n",
    "    tokenzied = [token.lower() for token in tokenzied]\n",
    "    attacking.append(any([o in tokenzied for o in oppo]) or \"opponent\" in tokenzied)\n",
    "    \n",
    "print(\"{0:.2f}% of tweets are attack tweets\".format(100 * attacking.count(True) / len(attacking)))"
   ]
  },
  {
   "cell_type": "code",
   "execution_count": 8,
   "metadata": {},
   "outputs": [],
   "source": [
    "# get index of these attack tweets\n",
    "attacking_index = [i for i, a in enumerate(attacking) if a]"
   ]
  },
  {
   "cell_type": "code",
   "execution_count": 9,
   "metadata": {
    "scrolled": true
   },
   "outputs": [
    {
     "name": "stdout",
     "output_type": "stream",
     "text": [
      "CRIST VS. SCOTT—FLORIDA CATFIGHT ROUND 3. COMEDY OR TRAGEDY? \n",
      "\n",
      "Last night’s “debate” on CNN would have been... http://t.co/OISjlchZvY\n",
      "{'adrian', '@charliecrist', '@glennburkett4fl', 'rick', 'charlie', 'wyllie', '@scottforflorida', 'glenn', '@wyllieforgov', 'burkett', 'scott', 'crist'}\n",
      "\n",
      "I have many other common sense positions that the Mr. Mead could adopt. How about removing his censor of science standards. #HelptheGov\n",
      "{'@meadforgovernor', 'mead', 'matt'}\n",
      "\n",
      ".@WSJ: Prosecutors are looking at whether Cuomo directed the Moreland Commission not to refer cases for prosecution http://t.co/dPsNk5k3ul\n",
      "{'andrew', '@votemcdermott', '@howiehawkins', 'cuomo', 'michael', '@nygovcuomo', 'hawkins', 'mcdermott', 'howie'}\n",
      "\n",
      "The election for Texas Governor is in 3 months. Don't let Obama &amp; Wendy Davis hijack Texas. Donate $20.14 --&gt; http://t.co/yEFbdeEmZF\n",
      "{'wendy', 'glass', '@kathieglass4tx', 'kathie', 'davis', '@wendydavis'}\n",
      "\n",
      "While Michiganders struggle to make ends meet, @onetoughnerd officials stayed at a $483/night \"luxury hotel” http://t.co/9aojqiP7SW\n",
      "{'rick', 'snyder', '@onetoughnerd'}\n",
      "\n",
      ".@sjdemas: Rick Snyder thinks he’s better and smarter than you → http://t.co/f4IAVeCbxV http://t.co/00dj2UgeE4\n",
      "{'rick', 'snyder', '@onetoughnerd'}\n",
      "\n",
      ".@JerryBrownGov How bout this: I'll give you a debate rematch and you can bring someone to help you this time. 2 on 1. #anytopic #anytime\n",
      "{'jerry', '@jerrybrowngov', 'brown'}\n",
      "\n",
      "Michiganders call out Gov. Snyder at Sterling Heights event http://t.co/1TRSC4OZCM http://t.co/toLfMxX6oJ\n",
      "{'rick', 'snyder', '@onetoughnerd'}\n",
      "\n",
      "“@TomFoleyCT is bending the facts to fit his wishes – which is a step further and not okay.” http://t.co/3OlG38yAgs #ctgov #FoleyFails\n",
      "{'visconti', 'tom', 'foley', 'lee', 'joe', '@tomfoleyct', '@joevisconti', '@lee_whitnum', 'whitnum'}\n",
      "\n",
      "Good that criticism forced .@nyGovCuomo to walk back #Ebola quarantine. Needs to apologize for misinfo, behavior. http://t.co/YvyXHYQzgg\n",
      "{'andrew', '@votemcdermott', '@robastorino', 'cuomo', 'michael', '@nygovcuomo', 'rob', 'astorino', 'mcdermott'}\n",
      "\n"
     ]
    }
   ],
   "source": [
    "for ai in attacking_index[10:20]:\n",
    "    tweet = tweets[ai]\n",
    "    user = tweet['user']\n",
    "    oppo = opponents[user]\n",
    "    text = tweet['text']\n",
    "    \n",
    "    print(text)\n",
    "    print(oppo)\n",
    "    print()"
   ]
  },
  {
   "cell_type": "markdown",
   "metadata": {},
   "source": [
    "# Merge Dataset"
   ]
  },
  {
   "cell_type": "markdown",
   "metadata": {},
   "source": [
    "## + Attacking"
   ]
  },
  {
   "cell_type": "code",
   "execution_count": 10,
   "metadata": {},
   "outputs": [],
   "source": [
    "for tweet, is_attack in zip(tweets, attacking):\n",
    "    tweet['is_attack'] = is_attack"
   ]
  },
  {
   "cell_type": "markdown",
   "metadata": {},
   "source": [
    "## + Geography"
   ]
  },
  {
   "cell_type": "code",
   "execution_count": 11,
   "metadata": {},
   "outputs": [],
   "source": [
    "candidate_to_state = {}\n",
    "for c in candidates:\n",
    "    t = c['twitter'].lower()\n",
    "    if t:\n",
    "        candidate_to_state[t] = c['state']\n",
    "        \n",
    "for tweet in tweets:\n",
    "    tweet['state'] = candidate_to_state[tweet['user']]"
   ]
  },
  {
   "cell_type": "markdown",
   "metadata": {},
   "source": [
    "## + Party"
   ]
  },
  {
   "cell_type": "code",
   "execution_count": 12,
   "metadata": {},
   "outputs": [],
   "source": [
    "candidate_to_party = {}\n",
    "for c in candidates:\n",
    "    t = c['twitter'].lower()\n",
    "    if t:\n",
    "        candidate_to_party[t] = c['party']\n",
    "        \n",
    "for tweet in tweets:\n",
    "    tweet['party'] = candidate_to_party[tweet['user']]"
   ]
  },
  {
   "cell_type": "markdown",
   "metadata": {},
   "source": [
    "## + Incumbency"
   ]
  },
  {
   "cell_type": "code",
   "execution_count": 13,
   "metadata": {},
   "outputs": [],
   "source": [
    "candidate_to_incumbency = {}\n",
    "for c in candidates:\n",
    "    t = c['twitter'].lower()\n",
    "    if t:\n",
    "        candidate_to_incumbency[t] = c['incumbency']\n",
    "        \n",
    "for tweet in tweets:\n",
    "    tweet['incumbency'] = candidate_to_incumbency[tweet['user']]"
   ]
  },
  {
   "cell_type": "markdown",
   "metadata": {},
   "source": [
    "## + Competitiveness\n",
    "Needs to + States first"
   ]
  },
  {
   "cell_type": "code",
   "execution_count": 14,
   "metadata": {},
   "outputs": [],
   "source": [
    "with open(\"./competitiveness.jsonlist\", 'r') as f:\n",
    "    state_to_competitiveness = json.load(f)\n",
    "\n",
    "for tweet in tweets:\n",
    "    state = tweet['state']\n",
    "    tweet['competitiveness'] = state_to_competitiveness[state]"
   ]
  },
  {
   "cell_type": "markdown",
   "metadata": {},
   "source": [
    "# Filter Out Penn Tweets\n",
    "\n",
    "Pennsylvania seems like an outlier which has an extremely high percentage of attack tweets. By excluding it, we see results that conform to previous literture."
   ]
  },
  {
   "cell_type": "code",
   "execution_count": 15,
   "metadata": {},
   "outputs": [],
   "source": [
    "# tweets = [tweet for tweet in tweets if tweet['state'] != \"Pennsylvania\"]"
   ]
  },
  {
   "cell_type": "markdown",
   "metadata": {},
   "source": [
    "# Attack By States"
   ]
  },
  {
   "cell_type": "code",
   "execution_count": 16,
   "metadata": {},
   "outputs": [],
   "source": [
    "state_to_attack_count = Counter()\n",
    "state_to_total_tweets = Counter()\n",
    "\n",
    "for tweet in tweets:\n",
    "    is_attack = tweet['is_attack']\n",
    "    state = tweet['state']\n",
    "    \n",
    "    state_to_total_tweets[state] += 1\n",
    "    \n",
    "    if is_attack:\n",
    "        state_to_attack_count[state] += 1\n",
    "\n",
    "states = list(state_to_total_tweets.keys())        \n",
    "rates = [state_to_attack_count[state] / state_to_total_tweets[state] for state in states]\n",
    "\n",
    "df_attack_rate_by_state = pd.DataFrame(index=states, data=rates, columns=[\"attack_rate\"])"
   ]
  },
  {
   "cell_type": "code",
   "execution_count": 17,
   "metadata": {},
   "outputs": [
    {
     "data": {
      "text/plain": [
       "<matplotlib.axes._subplots.AxesSubplot at 0x1408dbe90>"
      ]
     },
     "execution_count": 17,
     "metadata": {},
     "output_type": "execute_result"
    },
    {
     "data": {
      "image/png": "[encoded data removed]",
      "text/plain": [
       "<Figure size 432x288 with 1 Axes>"
      ]
     },
     "metadata": {
      "needs_background": "light"
     },
     "output_type": "display_data"
    }
   ],
   "source": [
    "df_attack_rate_by_state.sort_values(\"attack_rate\", ascending=False).plot.bar()"
   ]
  },
  {
   "cell_type": "markdown",
   "metadata": {},
   "source": [
    "# Attack By Party"
   ]
  },
  {
   "cell_type": "code",
   "execution_count": 18,
   "metadata": {},
   "outputs": [],
   "source": [
    "party_to_attack_count = Counter()\n",
    "party_to_total_tweets = Counter()\n",
    "\n",
    "for tweet in tweets:\n",
    "    is_attack = tweet['is_attack']\n",
    "    party = tweet['party']\n",
    "    \n",
    "    party_to_total_tweets[party] += 1\n",
    "    \n",
    "    if is_attack:\n",
    "        party_to_attack_count[party] += 1\n",
    "\n",
    "parties = list(party_to_total_tweets.keys())        \n",
    "rates = [party_to_attack_count[party] / party_to_total_tweets[party] for party in parties]\n",
    "\n",
    "df_attack_rate_by_party = pd.DataFrame(index=parties, data=rates, columns=[\"attack_rate\"])"
   ]
  },
  {
   "cell_type": "code",
   "execution_count": 19,
   "metadata": {},
   "outputs": [
    {
     "data": {
      "text/plain": [
       "<matplotlib.axes._subplots.AxesSubplot at 0x1401f0390>"
      ]
     },
     "execution_count": 19,
     "metadata": {},
     "output_type": "execute_result"
    },
    {
     "data": {
      "image/png": "[encoded data removed]",
      "text/plain": [
       "<Figure size 432x288 with 1 Axes>"
      ]
     },
     "metadata": {
      "needs_background": "light"
     },
     "output_type": "display_data"
    }
   ],
   "source": [
    "df_attack_rate_by_party.sort_values(\"attack_rate\", ascending=False).plot.bar()"
   ]
  },
  {
   "cell_type": "markdown",
   "metadata": {},
   "source": [
    "# Attack By Incumbency"
   ]
  },
  {
   "cell_type": "code",
   "execution_count": 20,
   "metadata": {},
   "outputs": [],
   "source": [
    "incumbency_to_attack_count = Counter()\n",
    "incumbency_to_total_tweets = Counter()\n",
    "\n",
    "for tweet in tweets:\n",
    "    is_attack = tweet['is_attack']\n",
    "    incumbency = tweet['incumbency']\n",
    "    \n",
    "    incumbency_to_total_tweets[incumbency] += 1\n",
    "    \n",
    "    if is_attack:\n",
    "        incumbency_to_attack_count[incumbency] += 1\n",
    "\n",
    "incumbencies = list(incumbency_to_total_tweets.keys())        \n",
    "rates = [incumbency_to_attack_count[incumbency] / incumbency_to_total_tweets[incumbency] for incumbency in incumbencies]\n",
    "\n",
    "readable_i_mapping = {True: \"Incumbent\", \n",
    "                      False: \"Challenger\"}\n",
    "\n",
    "readable_i = [readable_i_mapping[i] for i in incumbencies]\n",
    "df_attack_rate_by_incumbency = pd.DataFrame(index=readable_i, data=rates, columns=[\"attack_rate\"])"
   ]
  },
  {
   "cell_type": "code",
   "execution_count": 21,
   "metadata": {},
   "outputs": [
    {
     "data": {
      "text/plain": [
       "<matplotlib.axes._subplots.AxesSubplot at 0x13ff99c90>"
      ]
     },
     "execution_count": 21,
     "metadata": {},
     "output_type": "execute_result"
    },
    {
     "data": {
      "image/png": "[encoded data removed]",
      "text/plain": [
       "<Figure size 432x288 with 1 Axes>"
      ]
     },
     "metadata": {
      "needs_background": "light"
     },
     "output_type": "display_data"
    }
   ],
   "source": [
    "df_attack_rate_by_incumbency.sort_values(\"attack_rate\", ascending=False).plot.bar()"
   ]
  },
  {
   "cell_type": "markdown",
   "metadata": {},
   "source": [
    "# Attack By Competitiveness"
   ]
  },
  {
   "cell_type": "code",
   "execution_count": 22,
   "metadata": {},
   "outputs": [],
   "source": [
    "competitiveness_to_attack_count = Counter()\n",
    "competitiveness_to_total_tweets = Counter()\n",
    "\n",
    "for tweet in tweets:\n",
    "    is_attack = tweet['is_attack']\n",
    "    competitiveness = tweet['competitiveness']\n",
    "    \n",
    "    competitiveness_to_total_tweets[competitiveness] += 1\n",
    "    \n",
    "    if is_attack:\n",
    "        competitiveness_to_attack_count[competitiveness] += 1\n",
    "\n",
    "competitivenesses = list(competitiveness_to_total_tweets.keys())        \n",
    "rates = [competitiveness_to_attack_count[competitiveness] / competitiveness_to_total_tweets[competitiveness] for competitiveness in competitivenesses]\n",
    "\n",
    "readable_c_mapping = {True: \"Competitive\", \n",
    "                      False: \"Non-competitive\"}\n",
    "\n",
    "readable_c = [readable_c_mapping[c] for c in competitivenesses]\n",
    "\n",
    "df_attack_rate_by_competitiveness = pd.DataFrame(index=readable_c, data=rates, columns=[\"attack_rate\"])"
   ]
  },
  {
   "cell_type": "code",
   "execution_count": 23,
   "metadata": {},
   "outputs": [
    {
     "data": {
      "text/plain": [
       "<matplotlib.axes._subplots.AxesSubplot at 0x1408d3b50>"
      ]
     },
     "execution_count": 23,
     "metadata": {},
     "output_type": "execute_result"
    },
    {
     "data": {
      "image/png": "[encoded data removed]",
      "text/plain": [
       "<Figure size 432x288 with 1 Axes>"
      ]
     },
     "metadata": {
      "needs_background": "light"
     },
     "output_type": "display_data"
    }
   ],
   "source": [
    "df_attack_rate_by_competitiveness.sort_values(\"attack_rate\", ascending=False).plot.bar()"
   ]
  },
  {
   "cell_type": "markdown",
   "metadata": {},
   "source": [
    "# Attack by Joint (Competiveness, Incumbency)"
   ]
  },
  {
   "cell_type": "code",
   "execution_count": 24,
   "metadata": {},
   "outputs": [],
   "source": [
    "ci_to_attack_count = Counter()\n",
    "ci_to_total_tweets = Counter()\n",
    "\n",
    "for tweet in tweets:\n",
    "    is_attack = tweet['is_attack']\n",
    "    competitiveness = tweet['competitiveness']\n",
    "    incumbency = tweet['incumbency']\n",
    "    \n",
    "    ci_to_total_tweets[(competitiveness, incumbency)] += 1\n",
    "    \n",
    "    if is_attack:\n",
    "        ci_to_attack_count[(competitiveness, incumbency)] += 1\n",
    "\n",
    "cies = list(ci_to_total_tweets.keys())        \n",
    "rates = [ci_to_attack_count[ci] / ci_to_total_tweets[ci] for ci in cies]\n",
    "\n",
    "readable_ci_mapping = {(True, True): (\"Competitive\", \"Incumbent\"), \n",
    "                      (True, False): (\"Competitive\", \"Challenger\"),\n",
    "                      (False, True): (\"Non-competitive\", \"Incumbent\"),\n",
    "                      (False, False): (\"Non-competitive\", \"Challenger\")}\n",
    "\n",
    "readable_ci = [readable_ci_mapping[ci] for ci in cies]\n",
    "df_attack_rate_by_ci = pd.DataFrame(index=readable_ci, data=rates, columns=[\"attack_rate\"])"
   ]
  },
  {
   "cell_type": "code",
   "execution_count": 25,
   "metadata": {},
   "outputs": [
    {
     "data": {
      "text/plain": [
       "<matplotlib.axes._subplots.AxesSubplot at 0x13fb8e310>"
      ]
     },
     "execution_count": 25,
     "metadata": {},
     "output_type": "execute_result"
    },
    {
     "data": {
      "image/png": "[encoded data removed]",
      "text/plain": [
       "<Figure size 432x288 with 1 Axes>"
      ]
     },
     "metadata": {
      "needs_background": "light"
     },
     "output_type": "display_data"
    }
   ],
   "source": [
    "df_attack_rate_by_ci.sort_values(\"attack_rate\", ascending=False).plot.bar()"
   ]
  },
  {
   "cell_type": "markdown",
   "metadata": {},
   "source": [
    "# Distiguishing Ad Hominem Attacks"
   ]
  },
  {
   "cell_type": "code",
   "execution_count": 34,
   "metadata": {},
   "outputs": [],
   "source": [
    "attack_tweet_texts = [tweets[ai][\"text\"] for ai in attacking_index]"
   ]
  },
  {
   "cell_type": "code",
   "execution_count": 41,
   "metadata": {},
   "outputs": [
    {
     "data": {
      "text/plain": [
       "'@JadedByPolitics Wyllie at 14% in polls now and climbing. Floridians detest both Scott &amp; Crist. @Mrs__Met @OGwhiz'"
      ]
     },
     "execution_count": 41,
     "metadata": {},
     "output_type": "execute_result"
    }
   ],
   "source": [
    "attack_tweet_texts[20]"
   ]
  },
  {
   "cell_type": "code",
   "execution_count": null,
   "metadata": {},
   "outputs": [],
   "source": []
  }
 ],
 "metadata": {
  "kernelspec": {
   "display_name": "Python 3",
   "language": "python",
   "name": "python3"
  },
  "language_info": {
   "codemirror_mode": {
    "name": "ipython",
    "version": 3
   },
   "file_extension": ".py",
   "mimetype": "text/x-python",
   "name": "python",
   "nbconvert_exporter": "python",
   "pygments_lexer": "ipython3",
   "version": "3.7.4"
  },
  "pycharm": {
   "stem_cell": {
    "cell_type": "raw",
    "metadata": {
     "collapsed": false
    },
    "source": []
   }
  }
 },
 "nbformat": 4,
 "nbformat_minor": 1
}
