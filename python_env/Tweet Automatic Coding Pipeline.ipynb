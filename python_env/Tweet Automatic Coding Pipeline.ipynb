{
 "cells": [
  {
   "cell_type": "code",
   "execution_count": 1,
   "metadata": {},
   "outputs": [],
   "source": [
    "import json\n",
    "import pandas as pd\n",
    "import numpy as np\n",
    "from scipy.stats import ttest_ind, ttest_rel\n",
    "from collections import Counter\n",
    "from nltk.tokenize.casual import TweetTokenizer\n",
    "from nltk import MWETokenizer, pos_tag, RegexpParser\n",
    "tokenizer = TweetTokenizer()\n",
    "from nltk.corpus import stopwords\n",
    "from conllu import parse, parse_tree\n",
    "from nltk.stem.snowball import EnglishStemmer as Stemmer\n",
    "stemmer = Stemmer()\n",
    "\n",
    "from tqdm import tqdm_notebook\n",
    "\n",
    "import matplotlib.pyplot as plt\n",
    "\n",
    "import re\n",
    "import string\n",
    "stop = stopwords.words('english') + list(string.punctuation) + ['’', '...', '”', '“', '—', '…']\n",
    "\n",
    "import seaborn as sns\n",
    "sns.set(rc={'figure.figsize':(11.7,8.27)})"
   ]
  },
  {
   "cell_type": "code",
   "execution_count": 2,
   "metadata": {},
   "outputs": [],
   "source": [
    "# helper functions\n",
    "def get_words_by_pos_tag(t, pos_tag):\n",
    "    \"\"\" Returns a list of lists where each list contains words that forms a pos_tag in the syntax tree\n",
    "    \"\"\"\n",
    "    try:\n",
    "        t.label()\n",
    "    except AttributeError:\n",
    "        # get the word\n",
    "        if t[1] == pos_tag:\n",
    "            return [t[0]]\n",
    "        else:\n",
    "            return []\n",
    "    else:\n",
    "        # Now we know that t.node is defined\n",
    "        res = []\n",
    "        if t.label() == pos_tag:\n",
    "            res.append(get_list_of_words_in_tree(t))\n",
    "        else:\n",
    "            for child in t:\n",
    "                res += get_words_by_pos_tag(child, pos_tag)\n",
    "        return res\n",
    "            \n",
    "def get_list_of_words_in_tree(t):\n",
    "    \"\"\" Returns a list that contains all words that syntax tree\n",
    "    \"\"\"\n",
    "    try:\n",
    "        t.label()\n",
    "    except AttributeError:\n",
    "        # get the word\n",
    "        return [t[0]]\n",
    "    else:\n",
    "        res = []\n",
    "        for child in t:\n",
    "            res += get_list_of_words_in_tree(child)\n",
    "        return res"
   ]
  },
  {
   "cell_type": "markdown",
   "metadata": {},
   "source": [
    "# Section 1: Data Preparation"
   ]
  },
  {
   "cell_type": "markdown",
   "metadata": {},
   "source": [
    "## Read Tweets and Meta Data"
   ]
  },
  {
   "cell_type": "code",
   "execution_count": 3,
   "metadata": {},
   "outputs": [],
   "source": [
    "tweet_json_file = \"./data/all_tweets_with_meta.json\"\n",
    "with open(tweet_json_file, 'r') as f:\n",
    "    long_tweets = json.load(f)"
   ]
  },
  {
   "cell_type": "code",
   "execution_count": 4,
   "metadata": {},
   "outputs": [],
   "source": [
    "tweets = []\n",
    "for tweet in long_tweets:\n",
    "    tweets.append({\n",
    "        'created_at': tweet['created_at'], \n",
    "        'text': tweet['text'],\n",
    "        'in_reply_to_user_id': tweet['in_reply_to_screen_name'],\n",
    "        'user': tweet['user']['screen_name'].lower(), \n",
    "        'favorite_count': tweet['favorite_count'],\n",
    "        'retweet_count': tweet['retweet_count'],\n",
    "        'mentioned_url': [u[\"expanded_url\"] for u in tweet[\"entities\"][\"urls\"]] if tweet[\"entities\"][\"urls\"] else [],\n",
    "        'photo_url': [m[\"media_url\"] for m in tweet[\"entities\"][\"media\"] if m[\"type\"] == \"photo\"] if \"media\" in tweet[\"entities\"] else []})"
   ]
  },
  {
   "cell_type": "code",
   "execution_count": 5,
   "metadata": {},
   "outputs": [
    {
     "name": "stdout",
     "output_type": "stream",
     "text": [
      "Total tweets: 29062\n"
     ]
    }
   ],
   "source": [
    "print(\"Total tweets: {}\".format(len(tweets)))"
   ]
  },
  {
   "cell_type": "markdown",
   "metadata": {},
   "source": [
    "## Read Candidate Relations"
   ]
  },
  {
   "cell_type": "code",
   "execution_count": 6,
   "metadata": {},
   "outputs": [],
   "source": [
    "candidate_jsonlist_file = \"./2014_us_gubernatorial_election_candidates_with_twitter_and_gender.jsonlist\"\n",
    "candidates = []\n",
    "with open(candidate_jsonlist_file, 'r') as f:\n",
    "    for line in f:\n",
    "        candidates.append(json.loads(line))"
   ]
  },
  {
   "cell_type": "code",
   "execution_count": 7,
   "metadata": {},
   "outputs": [],
   "source": [
    "state_to_candidates = {}\n",
    "for c in candidates:\n",
    "    state = c['state']\n",
    "    if state not in state_to_candidates:\n",
    "        state_to_candidates[state] = set()\n",
    "    state_to_candidates[state].add((c['name'].lower(), c['twitter'].lower()))"
   ]
  },
  {
   "cell_type": "code",
   "execution_count": 8,
   "metadata": {},
   "outputs": [
    {
     "name": "stdout",
     "output_type": "stream",
     "text": [
      "Candidate 1: \n",
      "Candidate 2: \n",
      "Ambiguation: chris\n",
      "\n",
      "Candidate 1: corbettforgov\n",
      "Candidate 2: tomwolfpa\n",
      "Ambiguation: tom\n",
      "\n",
      "Candidate 1: maryburke_01\n",
      "Candidate 2: burkewigov\n",
      "Ambiguation: burke\n",
      "\n"
     ]
    }
   ],
   "source": [
    "# There are candidates who share the same last / first name. \n",
    "# In those cases we will omit these tokens. \n",
    "twitter_to_word_disambiguation = {}\n",
    "\n",
    "for state, candidates_in_state in state_to_candidates.items():\n",
    "    candidates_formatted = [c[0].split() for c in candidates_in_state]\n",
    "    candidates_twitter = [c[1] for c in candidates_in_state]\n",
    "    for i, c1 in enumerate(candidates_formatted):\n",
    "        for j, c2 in enumerate(candidates_formatted):\n",
    "            if i >= j:\n",
    "                continue\n",
    "            for word in c1:\n",
    "                if word in c2:\n",
    "                    print(\"Candidate 1:\", candidates_twitter[i])\n",
    "                    print(\"Candidate 2:\", candidates_twitter[j])\n",
    "                    print(\"Ambiguation:\", word)\n",
    "                    print()\n",
    "                    \n",
    "                    ct1 = candidates_twitter[i]\n",
    "                    ct2 = candidates_twitter[j]\n",
    "                    \n",
    "                    if ct1 != \"\":\n",
    "                        if ct1 not in twitter_to_word_disambiguation:\n",
    "                            twitter_to_word_disambiguation[ct1] = set()\n",
    "                        twitter_to_word_disambiguation[ct1].add(word)\n",
    "                        \n",
    "                    if ct2 != \"\":\n",
    "                        if ct2 not in twitter_to_word_disambiguation:\n",
    "                            twitter_to_word_disambiguation[ct2] = set()\n",
    "                        twitter_to_word_disambiguation[ct2].add(word)"
   ]
  },
  {
   "cell_type": "markdown",
   "metadata": {},
   "source": [
    "### Build Opponent Relationship"
   ]
  },
  {
   "cell_type": "code",
   "execution_count": 9,
   "metadata": {},
   "outputs": [],
   "source": [
    "opponents = {}\n",
    "\n",
    "# candidate relationship\n",
    "for c in candidates:\n",
    "    # key in by twitter handle\n",
    "    t = c['twitter'].lower()\n",
    "    if not t:\n",
    "        continue\n",
    "    if t not in opponents:\n",
    "        opponents[t] = set()\n",
    "        \n",
    "    state_wide_opponents = state_to_candidates[c['state']]\n",
    "    for name, twitter in state_wide_opponents:\n",
    "        if twitter == t:\n",
    "            continue\n",
    "        if not twitter:\n",
    "            continue\n",
    "        \n",
    "        opponents[t].add(\"@\" + twitter.lower())\n",
    "        for name_component in name.split():\n",
    "            if name_component:\n",
    "                # see twitter_to_word_disambiguation\n",
    "                if t in twitter_to_word_disambiguation:\n",
    "                    if name_component in twitter_to_word_disambiguation[t]:\n",
    "                        continue\n",
    "                opponents[t].add(name_component.lower())\n",
    "        opponents[t].add(name)"
   ]
  },
  {
   "cell_type": "markdown",
   "metadata": {},
   "source": [
    "## Attack Tweets"
   ]
  },
  {
   "cell_type": "code",
   "execution_count": 10,
   "metadata": {
    "scrolled": true
   },
   "outputs": [
    {
     "name": "stdout",
     "output_type": "stream",
     "text": [
      "11.04% of tweets are attack tweets\n"
     ]
    }
   ],
   "source": [
    "attacking = []\n",
    "for tweet in tweets:\n",
    "    user = tweet['user']\n",
    "    oppo = opponents[user]\n",
    "    text = tweet['text']\n",
    "    \n",
    "    tokenzied = tokenizer.tokenize(text)\n",
    "    tokenzied = [token.lower() for token in tokenzied]\n",
    "    attacking.append(any([o in tokenzied for o in oppo]) or \"opponent\" in tokenzied)\n",
    "    \n",
    "print(\"{0:.2f}% of tweets are attack tweets\".format(100 * attacking.count(True) / len(attacking)))"
   ]
  },
  {
   "cell_type": "code",
   "execution_count": 11,
   "metadata": {},
   "outputs": [],
   "source": [
    "# get index of these attack tweets\n",
    "attacking_index = [i for i, a in enumerate(attacking) if a]"
   ]
  },
  {
   "cell_type": "code",
   "execution_count": 12,
   "metadata": {
    "scrolled": true
   },
   "outputs": [
    {
     "name": "stdout",
     "output_type": "stream",
     "text": [
      "CRIST VS. SCOTT—FLORIDA CATFIGHT ROUND 3. COMEDY OR TRAGEDY? \n",
      "\n",
      "Last night’s “debate” on CNN would have been... http://t.co/OISjlchZvY\n",
      "{'rick scott', '@glennburkett4fl', 'rick', '@scottforflorida', 'burkett', 'glenn burkett', '@wyllieforgov', '@charliecrist', 'glenn', 'charlie crist', 'charlie', 'crist', 'scott', 'adrian', 'wyllie', 'adrian wyllie'}\n",
      "\n",
      "I have many other common sense positions that the Mr. Mead could adopt. How about removing his censor of science standards. #HelptheGov\n",
      "{'@meadforgovernor', 'mead', 'matt', 'matt mead'}\n",
      "\n",
      ".@WSJ: Prosecutors are looking at whether Cuomo directed the Moreland Commission not to refer cases for prosecution http://t.co/dPsNk5k3ul\n",
      "{'michael mcdermott', '@votemcdermott', 'howie', 'mcdermott', 'cuomo', '@howiehawkins', 'howie hawkins', '@nygovcuomo', 'hawkins', 'andrew', 'andrew cuomo', 'michael'}\n",
      "\n",
      "The election for Texas Governor is in 3 months. Don't let Obama &amp; Wendy Davis hijack Texas. Donate $20.14 --&gt; http://t.co/yEFbdeEmZF\n",
      "{'glass', 'wendy', '@wendydavis', 'kathie', 'davis', 'wendy davis', '@kathieglass4tx', 'kathie glass'}\n",
      "\n",
      "While Michiganders struggle to make ends meet, @onetoughnerd officials stayed at a $483/night \"luxury hotel” http://t.co/9aojqiP7SW\n",
      "{'snyder', 'rick snyder', '@onetoughnerd', 'rick'}\n",
      "\n",
      ".@sjdemas: Rick Snyder thinks he’s better and smarter than you → http://t.co/f4IAVeCbxV http://t.co/00dj2UgeE4\n",
      "{'snyder', 'rick snyder', '@onetoughnerd', 'rick'}\n",
      "\n",
      ".@JerryBrownGov How bout this: I'll give you a debate rematch and you can bring someone to help you this time. 2 on 1. #anytopic #anytime\n",
      "{'jerry brown', 'brown', '@jerrybrowngov', 'jerry'}\n",
      "\n",
      "Michiganders call out Gov. Snyder at Sterling Heights event http://t.co/1TRSC4OZCM http://t.co/toLfMxX6oJ\n",
      "{'snyder', 'rick snyder', '@onetoughnerd', 'rick'}\n",
      "\n",
      "“@TomFoleyCT is bending the facts to fit his wishes – which is a step further and not okay.” http://t.co/3OlG38yAgs #ctgov #FoleyFails\n",
      "{'visconti', 'lee whitnum', 'foley', '@tomfoleyct', '@joevisconti', '@lee_whitnum', 'whitnum', 'tom foley', 'joe', 'joe visconti', 'lee', 'tom'}\n",
      "\n",
      "Good that criticism forced .@nyGovCuomo to walk back #Ebola quarantine. Needs to apologize for misinfo, behavior. http://t.co/YvyXHYQzgg\n",
      "{'@robastorino', 'michael mcdermott', 'rob', '@votemcdermott', 'astorino', 'rob astorino', 'cuomo', 'mcdermott', '@nygovcuomo', 'andrew', 'andrew cuomo', 'michael'}\n",
      "\n"
     ]
    }
   ],
   "source": [
    "for ai in attacking_index[10:20]:\n",
    "    tweet = tweets[ai]\n",
    "    user = tweet['user']\n",
    "    oppo = opponents[user]\n",
    "    text = tweet['text']\n",
    "    \n",
    "    print(text)\n",
    "    print(oppo)\n",
    "    print()"
   ]
  },
  {
   "cell_type": "markdown",
   "metadata": {},
   "source": [
    "## Merge Dataset"
   ]
  },
  {
   "cell_type": "markdown",
   "metadata": {},
   "source": [
    "### + Attacking"
   ]
  },
  {
   "cell_type": "code",
   "execution_count": 13,
   "metadata": {},
   "outputs": [],
   "source": [
    "for tweet, is_attack in zip(tweets, attacking):\n",
    "    tweet['is_attack'] = is_attack"
   ]
  },
  {
   "cell_type": "markdown",
   "metadata": {},
   "source": [
    "### + Geography"
   ]
  },
  {
   "cell_type": "code",
   "execution_count": 14,
   "metadata": {},
   "outputs": [],
   "source": [
    "candidate_to_state = {}\n",
    "for c in candidates:\n",
    "    t = c['twitter'].lower()\n",
    "    if t:\n",
    "        candidate_to_state[t] = c['state']\n",
    "        \n",
    "for tweet in tweets:\n",
    "    tweet['state'] = candidate_to_state[tweet['user']]"
   ]
  },
  {
   "cell_type": "markdown",
   "metadata": {},
   "source": [
    "### + Gender"
   ]
  },
  {
   "cell_type": "code",
   "execution_count": 15,
   "metadata": {},
   "outputs": [],
   "source": [
    "candidate_to_gender = {}\n",
    "for c in candidates:\n",
    "    t = c['twitter'].lower()\n",
    "    if t:\n",
    "        candidate_to_gender[t] = c['gender']\n",
    "        \n",
    "for tweet in tweets:\n",
    "    tweet['gender'] = candidate_to_gender[tweet['user']]"
   ]
  },
  {
   "cell_type": "markdown",
   "metadata": {},
   "source": [
    "### + Party"
   ]
  },
  {
   "cell_type": "code",
   "execution_count": 16,
   "metadata": {},
   "outputs": [],
   "source": [
    "candidate_to_party = {}\n",
    "for c in candidates:\n",
    "    t = c['twitter'].lower()\n",
    "    if t:\n",
    "        candidate_to_party[t] = c['party']\n",
    "        \n",
    "for tweet in tweets:\n",
    "    tweet['party'] = candidate_to_party[tweet['user']]"
   ]
  },
  {
   "cell_type": "markdown",
   "metadata": {},
   "source": [
    "### + Incumbency"
   ]
  },
  {
   "cell_type": "code",
   "execution_count": 17,
   "metadata": {},
   "outputs": [],
   "source": [
    "candidate_to_incumbency = {}\n",
    "for c in candidates:\n",
    "    t = c['twitter'].lower()\n",
    "    if t:\n",
    "        candidate_to_incumbency[t] = c['incumbency']\n",
    "        \n",
    "for tweet in tweets:\n",
    "    tweet['incumbency'] = candidate_to_incumbency[tweet['user']]"
   ]
  },
  {
   "cell_type": "markdown",
   "metadata": {},
   "source": [
    "### + Competitiveness\n",
    "Needs to + States first"
   ]
  },
  {
   "cell_type": "code",
   "execution_count": 18,
   "metadata": {},
   "outputs": [],
   "source": [
    "with open(\"./competitiveness.jsonlist\", 'r') as f:\n",
    "    state_to_competitiveness = json.load(f)\n",
    "\n",
    "for tweet in tweets:\n",
    "    state = tweet['state']\n",
    "    tweet['competitiveness'] = state_to_competitiveness[state]"
   ]
  },
  {
   "cell_type": "markdown",
   "metadata": {},
   "source": [
    "### + Affect"
   ]
  },
  {
   "cell_type": "code",
   "execution_count": 19,
   "metadata": {},
   "outputs": [],
   "source": [
    "affect_map_file = \"./library/NRC-Emotion-Lexicon/NRC-Emotion-Lexicon-v0.92/NRC-Emotion-Lexicon-Wordlevel-v0.92.txt\"\n",
    "affect_map = {}\n",
    "with open(affect_map_file, 'r') as f:\n",
    "    for line in f:\n",
    "        token, affect, score = line.strip().split(\"\\t\")\n",
    "        score = int(score)\n",
    "        token = stemmer.stem(token)\n",
    "        if token not in affect_map:\n",
    "            affect_map[token] = {}\n",
    "        affect_map[token][affect] = score"
   ]
  },
  {
   "cell_type": "code",
   "execution_count": 20,
   "metadata": {},
   "outputs": [],
   "source": [
    "affects = set(['anger', 'anticipation', 'disgust', 'fear', 'joy', 'negative', 'positive', 'sadness', 'surprise', 'trust'])\n",
    "\n",
    "for tweet in tweets:\n",
    "    text = tweet['text']\n",
    "    tokens = tokenizer.tokenize(text)\n",
    "    tokens = [token.lower() for token in tokens]\n",
    "    tokens = set([stemmer.stem(token) for token in tokens if token not in stop])\n",
    "    tweet['affects'] = {a: 0 for a in affects}\n",
    "    \n",
    "    for t in tokens:\n",
    "        if t in affect_map:\n",
    "            token_affects = affect_map[t]\n",
    "            for affect, score in token_affects.items():\n",
    "                tweet['affects'][affect] += score"
   ]
  },
  {
   "cell_type": "markdown",
   "metadata": {},
   "source": [
    "## Filter Out Penn Tweets\n",
    "\n",
    "Pennsylvania seems like an outlier which has an extremely high percentage of attack tweets. By excluding it, we see results that conform to previous literture.\n",
    "\n",
    "Now it seems okay... there was an issue with candidate name and such. Just in case this comes back later, this code block is kept here for now."
   ]
  },
  {
   "cell_type": "code",
   "execution_count": 21,
   "metadata": {},
   "outputs": [],
   "source": [
    "# tweets = [tweet for tweet in tweets if tweet['state'] != \"Pennsylvania\"]"
   ]
  },
  {
   "cell_type": "markdown",
   "metadata": {},
   "source": [
    "# Section 2: Analysis and Methods"
   ]
  },
  {
   "cell_type": "markdown",
   "metadata": {},
   "source": [
    "## Attack By States"
   ]
  },
  {
   "cell_type": "code",
   "execution_count": 22,
   "metadata": {},
   "outputs": [],
   "source": [
    "state_to_attack_count = Counter()\n",
    "state_to_total_tweets = Counter()\n",
    "\n",
    "for tweet in tweets:\n",
    "    is_attack = tweet['is_attack']\n",
    "    state = tweet['state']\n",
    "    \n",
    "    state_to_total_tweets[state] += 1\n",
    "    \n",
    "    if is_attack:\n",
    "        state_to_attack_count[state] += 1\n",
    "\n",
    "states = list(state_to_total_tweets.keys())        \n",
    "rates = [state_to_attack_count[state] / state_to_total_tweets[state] for state in states]\n",
    "\n",
    "df_attack_rate_by_state = pd.DataFrame(index=states, data=rates, columns=[\"attack_rate\"])"
   ]
  },
  {
   "cell_type": "code",
   "execution_count": 23,
   "metadata": {},
   "outputs": [
    {
     "data": {
      "text/plain": [
       "<matplotlib.axes._subplots.AxesSubplot at 0x1486b1110>"
      ]
     },
     "execution_count": 23,
     "metadata": {},
     "output_type": "execute_result"
    },
    {
     "data": {
      "image/png": "[encoded data removed]",
      "text/plain": [
       "<Figure size 432x288 with 1 Axes>"
      ]
     },
     "metadata": {
      "needs_background": "light"
     },
     "output_type": "display_data"
    }
   ],
   "source": [
    "df_attack_rate_by_state.sort_values(\"attack_rate\", ascending=False).plot.bar()"
   ]
  },
  {
   "cell_type": "markdown",
   "metadata": {},
   "source": [
    "## Attack By Gender"
   ]
  },
  {
   "cell_type": "code",
   "execution_count": 24,
   "metadata": {},
   "outputs": [],
   "source": [
    "gender_to_attack_count = Counter()\n",
    "gender_to_total_tweets = Counter()\n",
    "\n",
    "for tweet in tweets:\n",
    "    is_attack = tweet['is_attack']\n",
    "    gender = tweet['gender']\n",
    "    \n",
    "    gender_to_total_tweets[gender] += 1\n",
    "    \n",
    "    if is_attack:\n",
    "        gender_to_attack_count[gender] += 1\n",
    "\n",
    "genders = list(gender_to_total_tweets.keys())        \n",
    "rates = [gender_to_attack_count[gender] / gender_to_total_tweets[gender] for gender in genders]\n",
    "\n",
    "df_attack_rate_by_gender = pd.DataFrame(index=genders, data=rates, columns=[\"attack_rate\"])"
   ]
  },
  {
   "cell_type": "code",
   "execution_count": 25,
   "metadata": {},
   "outputs": [
    {
     "data": {
      "text/plain": [
       "<matplotlib.axes._subplots.AxesSubplot at 0x148a2efd0>"
      ]
     },
     "execution_count": 25,
     "metadata": {},
     "output_type": "execute_result"
    },
    {
     "data": {
      "image/png": "[encoded data removed]",
      "text/plain": [
       "<Figure size 432x288 with 1 Axes>"
      ]
     },
     "metadata": {
      "needs_background": "light"
     },
     "output_type": "display_data"
    }
   ],
   "source": [
    "df_attack_rate_by_gender.sort_values(\"attack_rate\", ascending=False).plot.bar()"
   ]
  },
  {
   "cell_type": "markdown",
   "metadata": {},
   "source": [
    "## Attack By Party"
   ]
  },
  {
   "cell_type": "code",
   "execution_count": 26,
   "metadata": {},
   "outputs": [],
   "source": [
    "party_to_attack_count = Counter()\n",
    "party_to_total_tweets = Counter()\n",
    "\n",
    "for tweet in tweets:\n",
    "    is_attack = tweet['is_attack']\n",
    "    party = tweet['party']\n",
    "    \n",
    "    party_to_total_tweets[party] += 1\n",
    "    \n",
    "    if is_attack:\n",
    "        party_to_attack_count[party] += 1\n",
    "\n",
    "parties = list(party_to_total_tweets.keys())        \n",
    "rates = [party_to_attack_count[party] / party_to_total_tweets[party] for party in parties]\n",
    "\n",
    "df_attack_rate_by_party = pd.DataFrame(index=parties, data=rates, columns=[\"attack_rate\"])"
   ]
  },
  {
   "cell_type": "code",
   "execution_count": 27,
   "metadata": {},
   "outputs": [
    {
     "data": {
      "text/plain": [
       "<matplotlib.axes._subplots.AxesSubplot at 0x149b57390>"
      ]
     },
     "execution_count": 27,
     "metadata": {},
     "output_type": "execute_result"
    },
    {
     "data": {
      "image/png": "[encoded data removed]",
      "text/plain": [
       "<Figure size 432x288 with 1 Axes>"
      ]
     },
     "metadata": {
      "needs_background": "light"
     },
     "output_type": "display_data"
    }
   ],
   "source": [
    "df_attack_rate_by_party.sort_values(\"attack_rate\", ascending=False).plot.bar()"
   ]
  },
  {
   "cell_type": "markdown",
   "metadata": {},
   "source": [
    "## Attack By Incumbency"
   ]
  },
  {
   "cell_type": "code",
   "execution_count": 28,
   "metadata": {},
   "outputs": [],
   "source": [
    "incumbency_to_attack_count = Counter()\n",
    "incumbency_to_total_tweets = Counter()\n",
    "\n",
    "for tweet in tweets:\n",
    "    is_attack = tweet['is_attack']\n",
    "    incumbency = tweet['incumbency']\n",
    "    \n",
    "    incumbency_to_total_tweets[incumbency] += 1\n",
    "    \n",
    "    if is_attack:\n",
    "        incumbency_to_attack_count[incumbency] += 1\n",
    "\n",
    "incumbencies = list(incumbency_to_total_tweets.keys())        \n",
    "rates = [incumbency_to_attack_count[incumbency] / incumbency_to_total_tweets[incumbency] for incumbency in incumbencies]\n",
    "\n",
    "readable_i_mapping = {True: \"Incumbent\", \n",
    "                      False: \"Challenger\"}\n",
    "\n",
    "readable_i = [readable_i_mapping[i] for i in incumbencies]\n",
    "df_attack_rate_by_incumbency = pd.DataFrame(index=readable_i, data=rates, columns=[\"attack_rate\"])"
   ]
  },
  {
   "cell_type": "code",
   "execution_count": 29,
   "metadata": {},
   "outputs": [
    {
     "data": {
      "text/plain": [
       "<matplotlib.axes._subplots.AxesSubplot at 0x149c56110>"
      ]
     },
     "execution_count": 29,
     "metadata": {},
     "output_type": "execute_result"
    },
    {
     "data": {
      "image/png": "[encoded data removed]",
      "text/plain": [
       "<Figure size 432x288 with 1 Axes>"
      ]
     },
     "metadata": {
      "needs_background": "light"
     },
     "output_type": "display_data"
    }
   ],
   "source": [
    "df_attack_rate_by_incumbency.sort_values(\"attack_rate\", ascending=False).plot.bar()"
   ]
  },
  {
   "cell_type": "markdown",
   "metadata": {},
   "source": [
    "## Attack By Competitiveness"
   ]
  },
  {
   "cell_type": "code",
   "execution_count": 30,
   "metadata": {},
   "outputs": [],
   "source": [
    "competitiveness_to_attack_count = Counter()\n",
    "competitiveness_to_total_tweets = Counter()\n",
    "\n",
    "for tweet in tweets:\n",
    "    is_attack = tweet['is_attack']\n",
    "    competitiveness = tweet['competitiveness']\n",
    "    \n",
    "    competitiveness_to_total_tweets[competitiveness] += 1\n",
    "    \n",
    "    if is_attack:\n",
    "        competitiveness_to_attack_count[competitiveness] += 1\n",
    "\n",
    "competitivenesses = list(competitiveness_to_total_tweets.keys())        \n",
    "rates = [competitiveness_to_attack_count[competitiveness] / competitiveness_to_total_tweets[competitiveness] for competitiveness in competitivenesses]\n",
    "\n",
    "readable_c_mapping = {True: \"Competitive\", \n",
    "                      False: \"Non-competitive\"}\n",
    "\n",
    "readable_c = [readable_c_mapping[c] for c in competitivenesses]\n",
    "\n",
    "df_attack_rate_by_competitiveness = pd.DataFrame(index=readable_c, data=rates, columns=[\"attack_rate\"])"
   ]
  },
  {
   "cell_type": "code",
   "execution_count": 31,
   "metadata": {},
   "outputs": [
    {
     "data": {
      "text/plain": [
       "<matplotlib.axes._subplots.AxesSubplot at 0x149d6d790>"
      ]
     },
     "execution_count": 31,
     "metadata": {},
     "output_type": "execute_result"
    },
    {
     "data": {
      "image/png": "[encoded data removed]",
      "text/plain": [
       "<Figure size 432x288 with 1 Axes>"
      ]
     },
     "metadata": {
      "needs_background": "light"
     },
     "output_type": "display_data"
    }
   ],
   "source": [
    "df_attack_rate_by_competitiveness.sort_values(\"attack_rate\", ascending=False).plot.bar()"
   ]
  },
  {
   "cell_type": "markdown",
   "metadata": {},
   "source": [
    "## Attack by Joint (Competiveness, Incumbency)"
   ]
  },
  {
   "cell_type": "code",
   "execution_count": 32,
   "metadata": {},
   "outputs": [],
   "source": [
    "ci_to_attack_count = Counter()\n",
    "ci_to_total_tweets = Counter()\n",
    "\n",
    "for tweet in tweets:\n",
    "    is_attack = tweet['is_attack']\n",
    "    competitiveness = tweet['competitiveness']\n",
    "    incumbency = tweet['incumbency']\n",
    "    \n",
    "    ci_to_total_tweets[(competitiveness, incumbency)] += 1\n",
    "    \n",
    "    if is_attack:\n",
    "        ci_to_attack_count[(competitiveness, incumbency)] += 1\n",
    "\n",
    "cies = list(ci_to_total_tweets.keys())        \n",
    "rates = [ci_to_attack_count[ci] / ci_to_total_tweets[ci] for ci in cies]\n",
    "\n",
    "readable_ci_mapping = {(True, True): (\"Competitive\", \"Incumbent\"), \n",
    "                      (True, False): (\"Competitive\", \"Challenger\"),\n",
    "                      (False, True): (\"Non-competitive\", \"Incumbent\"),\n",
    "                      (False, False): (\"Non-competitive\", \"Challenger\")}\n",
    "\n",
    "readable_ci = [readable_ci_mapping[ci] for ci in cies]\n",
    "df_attack_rate_by_ci = pd.DataFrame(index=readable_ci, data=rates, columns=[\"attack_rate\"])"
   ]
  },
  {
   "cell_type": "code",
   "execution_count": 33,
   "metadata": {},
   "outputs": [
    {
     "data": {
      "text/plain": [
       "<matplotlib.axes._subplots.AxesSubplot at 0x149d62310>"
      ]
     },
     "execution_count": 33,
     "metadata": {},
     "output_type": "execute_result"
    },
    {
     "data": {
      "image/png": "[encoded data removed]",
      "text/plain": [
       "<Figure size 432x288 with 1 Axes>"
      ]
     },
     "metadata": {
      "needs_background": "light"
     },
     "output_type": "display_data"
    }
   ],
   "source": [
    "df_attack_rate_by_ci.sort_values(\"attack_rate\", ascending=False).plot.bar()"
   ]
  },
  {
   "cell_type": "markdown",
   "metadata": {},
   "source": [
    "## Do Attacks Get More Attention?"
   ]
  },
  {
   "cell_type": "markdown",
   "metadata": {},
   "source": [
    "### Favorites"
   ]
  },
  {
   "cell_type": "code",
   "execution_count": 34,
   "metadata": {},
   "outputs": [],
   "source": [
    "favs_nonattack = [tweet['favorite_count'] for tweet in tweets if not tweet[\"is_attack\"]]\n",
    "favs_attack = [tweet['favorite_count'] for tweet in tweets if tweet[\"is_attack\"]]"
   ]
  },
  {
   "cell_type": "code",
   "execution_count": 35,
   "metadata": {},
   "outputs": [
    {
     "name": "stdout",
     "output_type": "stream",
     "text": [
      "(Nonattack tweets) mean: 6.88, st dev: 21.13\n"
     ]
    }
   ],
   "source": [
    "print(\"(Nonattack tweets) mean: {0:.2f}, st dev: {1:.2f}\".format(np.mean(favs_nonattack), np.std(favs_nonattack)))"
   ]
  },
  {
   "cell_type": "code",
   "execution_count": 36,
   "metadata": {},
   "outputs": [
    {
     "name": "stdout",
     "output_type": "stream",
     "text": [
      "(Atk tweets) mean: 8.40, st dev: 24.14\n"
     ]
    }
   ],
   "source": [
    "print(\"(Atk tweets) mean: {0:.2f}, st dev: {1:.2f}\".format(np.mean(favs_attack), np.std(favs_attack)))"
   ]
  },
  {
   "cell_type": "code",
   "execution_count": 37,
   "metadata": {},
   "outputs": [
    {
     "data": {
      "text/plain": [
       "Ttest_indResult(statistic=-3.3924312909528367, pvalue=0.0006997555010372588)"
      ]
     },
     "execution_count": 37,
     "metadata": {},
     "output_type": "execute_result"
    }
   ],
   "source": [
    "ttest_ind(favs_nonattack, favs_attack, equal_var=False)"
   ]
  },
  {
   "cell_type": "markdown",
   "metadata": {},
   "source": [
    "### Retweets"
   ]
  },
  {
   "cell_type": "code",
   "execution_count": 38,
   "metadata": {},
   "outputs": [],
   "source": [
    "retweets_nonattack = [tweet['retweet_count'] for tweet in tweets if not tweet[\"is_attack\"]]\n",
    "retweets_attack = [tweet['retweet_count'] for tweet in tweets if tweet[\"is_attack\"]]"
   ]
  },
  {
   "cell_type": "code",
   "execution_count": 39,
   "metadata": {},
   "outputs": [
    {
     "name": "stdout",
     "output_type": "stream",
     "text": [
      "(Nonattack tweets) mean: 8.42, st dev: 21.29\n"
     ]
    }
   ],
   "source": [
    "print(\"(Nonattack tweets) mean: {0:.2f}, st dev: {1:.2f}\".format(np.mean(retweets_nonattack), np.std(retweets_nonattack)))"
   ]
  },
  {
   "cell_type": "code",
   "execution_count": 40,
   "metadata": {},
   "outputs": [
    {
     "name": "stdout",
     "output_type": "stream",
     "text": [
      "(Atk tweets) mean: 14.58, st dev: 33.56\n"
     ]
    }
   ],
   "source": [
    "print(\"(Atk tweets) mean: {0:.2f}, st dev: {1:.2f}\".format(np.mean(retweets_attack), np.std(retweets_attack)))"
   ]
  },
  {
   "cell_type": "code",
   "execution_count": 41,
   "metadata": {},
   "outputs": [
    {
     "data": {
      "text/plain": [
       "Ttest_indResult(statistic=-10.151897128039039, pvalue=6.887454581559651e-24)"
      ]
     },
     "execution_count": 41,
     "metadata": {},
     "output_type": "execute_result"
    }
   ],
   "source": [
    "ttest_ind(retweets_nonattack, retweets_attack, equal_var=False)"
   ]
  },
  {
   "cell_type": "markdown",
   "metadata": {},
   "source": [
    "From the t-test results, attack tweets do get more favorites and retweets. \n",
    "\n",
    "**TODO: How to account for different candidates who might have different popularities on Twitter.**"
   ]
  },
  {
   "cell_type": "markdown",
   "metadata": {},
   "source": [
    "## Distiguishing Ad Hominem Attacks"
   ]
  },
  {
   "cell_type": "markdown",
   "metadata": {},
   "source": [
    "### Vocab"
   ]
  },
  {
   "cell_type": "code",
   "execution_count": 42,
   "metadata": {},
   "outputs": [],
   "source": [
    "vocab = Counter()\n",
    "for tweet_index in attacking_index:\n",
    "    tweet = tweets[tweet_index]\n",
    "    text = tweet['text']\n",
    "    tokens = tokenizer.tokenize(text)\n",
    "    tokens = [token.lower() for token in tokens]\n",
    "    tokens = [stemmer.stem(token) for token in tokens if token not in stop]\n",
    "    vocab.update(tokens)\n",
    "counts = [c for _, c in vocab.most_common()]"
   ]
  },
  {
   "cell_type": "code",
   "execution_count": 43,
   "metadata": {},
   "outputs": [
    {
     "name": "stdout",
     "output_type": "stream",
     "text": [
      "Vacab counts: max is 479 and min is 1\n"
     ]
    }
   ],
   "source": [
    "print(\"Vacab counts: max is {} and min is {}\".format(max(counts), min(counts)))"
   ]
  },
  {
   "cell_type": "code",
   "execution_count": 44,
   "metadata": {},
   "outputs": [
    {
     "name": "stdout",
     "output_type": "stream",
     "text": [
      "Vocab counts: 80th percentile is: 4.0\n"
     ]
    }
   ],
   "source": [
    "print(\"Vocab counts: {}th percentile is: {}\".format(80, np.percentile(counts, 80)))"
   ]
  },
  {
   "cell_type": "code",
   "execution_count": 45,
   "metadata": {},
   "outputs": [
    {
     "data": {
      "image/png": "[encoded data removed]",
      "text/plain": [
       "<Figure size 432x288 with 1 Axes>"
      ]
     },
     "metadata": {
      "needs_background": "light"
     },
     "output_type": "display_data"
    }
   ],
   "source": [
    "plt.hist(np.log10(counts), bins = 15)\n",
    "plt.title(\"Log Space Count Histogram\")\n",
    "plt.ylabel(\"# of distinct tokens\")\n",
    "plt.xlabel(\"Log10(Vocab Count)\")\n",
    "plt.show()"
   ]
  },
  {
   "cell_type": "code",
   "execution_count": 46,
   "metadata": {},
   "outputs": [],
   "source": [
    "%%script false --no-raise-error\n",
    "\n",
    "# export words for coding\n",
    "token_coding_file = \"./token_coding_init.csv\"\n",
    "with open(token_coding_file, 'w') as f:\n",
    "    f.write(\"count,token,is_policy\\n\")\n",
    "    for token, count in vocab.most_common():\n",
    "        f.write(\"{}, {}, {}\\n\".format(count, token, \"\"))"
   ]
  },
  {
   "cell_type": "code",
   "execution_count": null,
   "metadata": {},
   "outputs": [
    {
     "data": {
      "application/vnd.jupyter.widget-view+json": {
       "model_id": "33cbd1decf8844ccbe43a7ad60451a1e",
       "version_major": 2,
       "version_minor": 0
      },
      "text/plain": [
       "HBox(children=(IntProgress(value=0, max=101), HTML(value='')))"
      ]
     },
     "metadata": {},
     "output_type": "display_data"
    }
   ],
   "source": [
    "policy_percentages = []\n",
    "num_tokens = list(range(0, 2020, 20))\n",
    "\n",
    "# plot to see if we have coded enough\n",
    "for i in tqdm_notebook(num_tokens):\n",
    "    token_coding_finished_file = \"./token_coding.csv\"\n",
    "    c = 0\n",
    "    policy_tokens = set()\n",
    "    with open(token_coding_finished_file, 'r') as f:\n",
    "        f.readline()\n",
    "        for line in f:\n",
    "            coded_line = line.strip().split(\",\")[:-1]\n",
    "            if c >= i:\n",
    "                break\n",
    "            if coded_line[-1] == \"1\":\n",
    "                policy_tokens.add(coded_line[1].strip())\n",
    "            c += 1\n",
    "            \n",
    "    is_policies_token_based = []\n",
    "    for tweet_index in attacking_index:\n",
    "        tweet = tweets[tweet_index]\n",
    "        text = tweet['text']\n",
    "        tokens = tokenizer.tokenize(text)\n",
    "        tokens = [token.lower() for token in tokens]\n",
    "        tokens = [stemmer.stem(token) for token in tokens if token not in stop]\n",
    "        is_policy = any([token in policy_tokens for token in tokens])\n",
    "        is_policies_token_based.append(is_policy)\n",
    "        \n",
    "    pc = sum(is_policies_token_based)\n",
    "    tc = len(is_policies_token_based)\n",
    "    policy_percentages.append(pc / tc)"
   ]
  },
  {
   "cell_type": "code",
   "execution_count": null,
   "metadata": {},
   "outputs": [],
   "source": [
    "plt.plot(num_tokens, policy_percentages)\n",
    "plt.xlabel(\"Number of tokens labeled\")\n",
    "plt.ylabel(\"Proportion of policy tweets\")\n",
    "plt.title(\"Proportion of Policy Tweets v.s. Number of Labeled Tokens\")\n",
    "plt.show()"
   ]
  },
  {
   "cell_type": "code",
   "execution_count": null,
   "metadata": {},
   "outputs": [],
   "source": [
    "token_coding_finished_file = \"./token_coding.csv\"\n",
    "c = 0\n",
    "policy_tokens = set()\n",
    "with open(token_coding_finished_file, 'r') as f:\n",
    "    f.readline()\n",
    "    for line in f:\n",
    "        coded_line = line.strip().split(\",\")[:-1]\n",
    "        if coded_line[-1] == \"\":\n",
    "            break\n",
    "        if coded_line[-1] == \"1\":\n",
    "            policy_tokens.add(coded_line[1].strip())\n",
    "        c += 1\n",
    "print(\"{} tokens labeled\".format(c))\n",
    "print(\"{} policy tokens\".format(len(policy_tokens)))"
   ]
  },
  {
   "cell_type": "code",
   "execution_count": null,
   "metadata": {},
   "outputs": [],
   "source": [
    "is_policies_token_based = []\n",
    "for tweet_index in attacking_index:\n",
    "    tweet = tweets[tweet_index]\n",
    "    text = tweet['text']\n",
    "    tokens = tokenizer.tokenize(text)\n",
    "    tokens = [token.lower() for token in tokens]\n",
    "    tokens = [stemmer.stem(token) for token in tokens if token not in stop]\n",
    "    is_policy = any([token in policy_tokens for token in tokens])\n",
    "    is_policies_token_based.append(is_policy)"
   ]
  },
  {
   "cell_type": "code",
   "execution_count": null,
   "metadata": {},
   "outputs": [],
   "source": [
    "text = \"Our first TV ad shows who @GregAbbott_TX is really working for: his insider friends. See it here first: http://t.co/QyLaIBhlQ3\"\n",
    "tokens = tokenizer.tokenize(text)\n",
    "tokens = [token.lower() for token in tokens]\n",
    "tokens = [stemmer.stem(token) for token in tokens if token not in stop]"
   ]
  },
  {
   "cell_type": "code",
   "execution_count": null,
   "metadata": {},
   "outputs": [],
   "source": [
    "[(token, token in policy_tokens) for token in tokens]"
   ]
  },
  {
   "cell_type": "code",
   "execution_count": null,
   "metadata": {},
   "outputs": [],
   "source": [
    "pc = sum(is_policies_token_based)\n",
    "tc = len(is_policies_token_based)\n",
    "print(\"Total policy tweets: {} out of {} ({:.2f}%)\".format(pc, tc, pc / tc * 100))"
   ]
  },
  {
   "cell_type": "code",
   "execution_count": null,
   "metadata": {},
   "outputs": [],
   "source": [
    "for ai, p in zip(attacking_index, is_policies_token_based):\n",
    "    text = tweets[ai]['text']\n",
    "    if p:\n",
    "        print(text)\n",
    "        print()"
   ]
  },
  {
   "cell_type": "code",
   "execution_count": null,
   "metadata": {},
   "outputs": [],
   "source": [
    "# append references\n",
    "for ai, ip in zip(attacking_index, is_policies_token_based):\n",
    "    tweets[ai][\"is_policy\"] = ip\n",
    "\n",
    "for tweet in tweets:\n",
    "    if \"is_policy\" not in tweet:\n",
    "        tweet[\"is_policy\"] = False"
   ]
  },
  {
   "cell_type": "markdown",
   "metadata": {},
   "source": [
    "### References"
   ]
  },
  {
   "cell_type": "code",
   "execution_count": null,
   "metadata": {
    "scrolled": true
   },
   "outputs": [],
   "source": [
    "# gather all pronoun tags\n",
    "pos_tag_to_include = set([\"PRP\", \"PRP$\"])\n",
    "\n",
    "prp_set = set()\n",
    "\n",
    "startswithany = lambda x, y: any([x.startswith(yy) for yy in y])\n",
    "\n",
    "for ai in attacking_index:\n",
    "    tweet = tweets[ai]\n",
    "    text = tweet[\"text\"]\n",
    "    tokens = tokenizer.tokenize(text)\n",
    "    tokens = [token for token in tokens if not startswithany(token, set([\"#\", \"@\", \"http\"]))]\n",
    "    pos_tags = [pos for _, pos in pos_tag(tokens)]\n",
    "    prp_set.update([token.lower() for token, pos in zip(tokens, pos_tags) if (pos in pos_tag_to_include)])"
   ]
  },
  {
   "cell_type": "code",
   "execution_count": null,
   "metadata": {},
   "outputs": [],
   "source": [
    "# these references are obtained through NLTK code above\n",
    "us_ref = set([\n",
    " 'my',\n",
    " 'our'\n",
    "])\n",
    "\n",
    "them_ref = set([\n",
    " 'her',\n",
    " 'his',\n",
    " 'their'\n",
    "])"
   ]
  },
  {
   "cell_type": "code",
   "execution_count": null,
   "metadata": {},
   "outputs": [],
   "source": [
    "is_contrast = []\n",
    "\n",
    "for i, ai in enumerate(attacking_index):\n",
    "    # must be a policy tweet to have contrast\n",
    "    if not is_policies_token_based[i]:\n",
    "        is_contrast.append(False)\n",
    "        continue\n",
    "    \n",
    "    tweet = tweets[ai]\n",
    "    text = tweet[\"text\"]\n",
    "    tokens = tokenizer.tokenize(text)\n",
    "    tokens = [token for token in tokens if not startswithany(token, set([\"#\", \"@\", \"http\"]))]\n",
    "    pos_tags = [pos for _, pos in pos_tag(tokens)]\n",
    "    tokens = [token.lower() for token, pos in zip(tokens, pos_tags) if (pos in pos_tag_to_include)]\n",
    "    is_us = any([us_token in tokens for us_token in us_ref])\n",
    "#     is_them = any([us_token in tokens for us_token in them_ref])\n",
    "    is_contrast.append(is_us)"
   ]
  },
  {
   "cell_type": "code",
   "execution_count": null,
   "metadata": {},
   "outputs": [],
   "source": [
    "cc = sum(is_contrast)\n",
    "tc = len(is_contrast)\n",
    "print(\"Total contrast tweets wrt all tweets: {} out of {} ({:.2f}%)\".format(cc, tc, cc / tc * 100))\n",
    "print(\"Total contrast tweets wrt policy tweets: {} out of {} ({:.2f}%)\".format(cc, pc, cc / pc * 100))"
   ]
  },
  {
   "cell_type": "code",
   "execution_count": null,
   "metadata": {},
   "outputs": [],
   "source": [
    "for ai, c in zip(attacking_index, is_contrast):\n",
    "    text = tweets[ai]['text']\n",
    "    if c:\n",
    "        print(text)\n",
    "        print()"
   ]
  },
  {
   "cell_type": "code",
   "execution_count": null,
   "metadata": {},
   "outputs": [],
   "source": [
    "# append references\n",
    "for ai, ic in zip(attacking_index, is_contrast):\n",
    "    tweets[ai][\"is_contrast\"] = ic\n",
    "\n",
    "for tweet in tweets:\n",
    "    if \"is_contrast\" not in tweet:\n",
    "        tweet[\"is_contrast\"] = False"
   ]
  },
  {
   "cell_type": "markdown",
   "metadata": {},
   "source": [
    "### Language: Attack Affect"
   ]
  },
  {
   "cell_type": "code",
   "execution_count": null,
   "metadata": {
    "scrolled": true
   },
   "outputs": [],
   "source": [
    "%%script false --no-raise-error\n",
    "\n",
    "df_affect_tweets = pd.DataFrame(columns = ['is_attack'] + [affect for affect in affects])\n",
    "for tweet in tqdm_notebook(tweets):\n",
    "    tweet_affects = tweet['affects']\n",
    "    is_attack = tweet['is_attack']\n",
    "    row = {a : s for a, s in tweet_affects.items()}\n",
    "    row['is_attack'] = is_attack\n",
    "    df_affect_tweets = df_affect_tweets.append(row, ignore_index = True)\n",
    "    \n",
    "# change data type to get correlations\n",
    "df_affect_tweets['is_attack'] = df_affect_tweets['is_attack'].astype('int')\n",
    "for a in affects:\n",
    "    df_affect_tweets[a] = df_affect_tweets[a].astype('int')\n",
    "    \n",
    "df_affect_tweets.corr(method = \"kendall\")[['is_attack']]"
   ]
  },
  {
   "cell_type": "markdown",
   "metadata": {},
   "source": [
    "## Export"
   ]
  },
  {
   "cell_type": "code",
   "execution_count": null,
   "metadata": {},
   "outputs": [],
   "source": [
    "export_json_file = \"./all_tweets_with_coding.json\"\n",
    "with open(export_json_file, 'w') as f:\n",
    "    json.dump(tweets, f)"
   ]
  },
  {
   "cell_type": "markdown",
   "metadata": {},
   "source": [
    "## Experimental Section"
   ]
  },
  {
   "cell_type": "code",
   "execution_count": null,
   "metadata": {},
   "outputs": [],
   "source": [
    "# comment this line to run\n",
    "assert False"
   ]
  },
  {
   "cell_type": "markdown",
   "metadata": {},
   "source": [
    "### Media & Links"
   ]
  },
  {
   "cell_type": "code",
   "execution_count": null,
   "metadata": {},
   "outputs": [],
   "source": [
    "any(\"Jimmie\" in tweet[\"text\"] for tweet in tweets)"
   ]
  },
  {
   "cell_type": "code",
   "execution_count": null,
   "metadata": {},
   "outputs": [],
   "source": [
    "attack_tweet_texts = [tweets[ai][\"text\"] for ai in attacking_index]\n",
    "attack_tweet_mentioned_url = [tweets[ai][\"mentioned_url\"] for ai in attacking_index]\n",
    "attack_tweet_photo_url = [tweets[ai][\"photo_url\"] for ai in attacking_index]\n",
    "oppo_per_attack_tweet = [opponents[tweets[ai][\"user\"]] for ai in attacking_index]"
   ]
  },
  {
   "cell_type": "code",
   "execution_count": null,
   "metadata": {},
   "outputs": [],
   "source": [
    "attack_tweet_texts_tmp = []\n",
    "for text, oppos in zip(attack_tweet_texts, oppo_per_attack_tweet):\n",
    "    for oppo in sorted(oppos, key=lambda x : -len(x)):\n",
    "        replacing = re.compile(oppo, re.IGNORECASE)\n",
    "        text = replacing.sub(\"Jimmie\", text)\n",
    "    \n",
    "    replacing = re.compile(\"opponent\", re.IGNORECASE)\n",
    "    text = replacing.sub(\"Jimmie\", text)\n",
    "    \n",
    "    replacing = re.compile(\"opponents\", re.IGNORECASE)\n",
    "    text = replacing.sub(\"Jimmie\", text)\n",
    "    \n",
    "    attack_tweet_texts_tmp.append(text)\n",
    "\n",
    "attack_tweet_texts = attack_tweet_texts_tmp"
   ]
  },
  {
   "cell_type": "code",
   "execution_count": null,
   "metadata": {
    "scrolled": true
   },
   "outputs": [],
   "source": [
    "all_photos = set()\n",
    "all_urls = set()\n",
    "\n",
    "for i in range(len(attack_tweet_texts)):\n",
    "    t = attack_tweet_texts[i]\n",
    "    u = attack_tweet_mentioned_url[i]\n",
    "    p = attack_tweet_photo_url[i]\n",
    "    \n",
    "    all_urls.update(u)\n",
    "    all_photos.update(p)\n",
    "    \n",
    "print(\"Total URL: {}; total photos: {}\".format(len(all_urls), len(all_photos)))"
   ]
  },
  {
   "cell_type": "code",
   "execution_count": null,
   "metadata": {},
   "outputs": [],
   "source": [
    "no_media = [t for t, m, u in zip(attack_tweet_texts, attack_tweet_mentioned_url, attack_tweet_photo_url) if not m and not u]\n",
    "\n",
    "print(\"No media tweets: {}; media tweets: {}\".format(len(no_media), len(attack_tweet_texts) - len(no_media)))"
   ]
  },
  {
   "cell_type": "markdown",
   "metadata": {
    "scrolled": true
   },
   "source": [
    "### Dependency Parsing"
   ]
  },
  {
   "cell_type": "code",
   "execution_count": null,
   "metadata": {},
   "outputs": [],
   "source": [
    "tweet_predict_file = \"./library/TweeboParser/test.txt.predict\""
   ]
  },
  {
   "cell_type": "code",
   "execution_count": null,
   "metadata": {},
   "outputs": [],
   "source": [
    "conll = []\n",
    "with open(tweet_predict_file, 'r') as f:\n",
    "    for line in f:\n",
    "        conll.append(line)\n",
    "\n",
    "conll = \"\".join(conll)\n",
    "conll = parse(conll)[0]"
   ]
  },
  {
   "cell_type": "code",
   "execution_count": null,
   "metadata": {
    "scrolled": true
   },
   "outputs": [],
   "source": [
    "conll.filter(upostag='^')"
   ]
  },
  {
   "cell_type": "code",
   "execution_count": null,
   "metadata": {},
   "outputs": [],
   "source": [
    "conll.filter(upostag='N')"
   ]
  },
  {
   "cell_type": "code",
   "execution_count": null,
   "metadata": {},
   "outputs": [],
   "source": [
    "conll.filter(upostag='@')"
   ]
  },
  {
   "cell_type": "code",
   "execution_count": null,
   "metadata": {},
   "outputs": [],
   "source": [
    "with open(\"attack_tweets.csv\", 'w') as f:\n",
    "    f.write(\"tweet\" + \"\\n\")\n",
    "    for t in attack_tweet_texts:\n",
    "        t = t.replace(\"\\n\", \" \")\n",
    "        t = t.replace(\"\\t\", \" \")\n",
    "        t = t.replace(\"\\\"\", \"'\")\n",
    "        t = t.replace(\"&amp;\", \"&\")\n",
    "        f.write(\"\\\"\" + t + \"\\\"\\n\")"
   ]
  },
  {
   "cell_type": "code",
   "execution_count": null,
   "metadata": {
    "scrolled": true
   },
   "outputs": [],
   "source": [
    "for i, token in enumerate(conll, 1):\n",
    "    if len(token[\"form\"]) >= len(\"Democrat\"):\n",
    "        tabs = \"\\t\\t\\t\"\n",
    "    else:\n",
    "        tabs = \"\\t\\t\\t\\t\"\n",
    "    print(\"{}\\t{}{}{}\\t{}\".format(i, token[\"form\"], tabs, token[\"upostag\"], token[\"head\"]))"
   ]
  },
  {
   "cell_type": "markdown",
   "metadata": {},
   "source": [
    "### Topic Model (LDA)"
   ]
  },
  {
   "cell_type": "code",
   "execution_count": null,
   "metadata": {
    "scrolled": true
   },
   "outputs": [],
   "source": [
    "topic_model_input_file = \"./all_attack_tweet_texts.txt\"\n",
    "pos_tag_to_include = set([\"NN\", \"NNS\", \"JJ\"])\n",
    "\n",
    "startswithany = lambda x, y: any([x.startswith(yy) for yy in y])\n",
    "\n",
    "with open(topic_model_input_file, 'w') as f:\n",
    "    for ai in attacking_index:\n",
    "        tweet = tweets[ai]\n",
    "        text = tweet[\"text\"]\n",
    "        tokens = tokenizer.tokenize(text)\n",
    "        tokens = [token for token in tokens if not startswithany(token, set([\"#\", \"@\", \"http\"]))]\n",
    "        pos_tags = [pos for _, pos in pos_tag(tokens)]\n",
    "        text = \" \".join([stemmer.stem(token) for token, pos in zip(tokens, pos_tags) if (pos in pos_tag_to_include)])\n",
    "        text = text.replace(\"\\n\", \" \")\n",
    "        f.write(text)\n",
    "        f.write(\"\\n\")"
   ]
  },
  {
   "cell_type": "code",
   "execution_count": null,
   "metadata": {},
   "outputs": [],
   "source": [
    "%%bash\n",
    "\n",
    "# mallet path\n",
    "MALLET=\"../../ARK/library/mallet-2.0.8/bin/mallet\"\n",
    "# file path\n",
    "INPUT=\"./all_attack_tweet_texts.txt\"\n",
    "MALLET_FILE=\"./all_attack_tweet_texts.txt.mallet\"\n",
    "OUTPUT_TOPIC_KEYS=\"./all_attack_tweet_texts_topic_keys.txt\"\n",
    "OUTPUT_DOC_TOPICS=\"./all_attack_tweet_texts_doc_topics.txt\"\n",
    "\n",
    "#hyperparams\n",
    "NUM_ITER=5000\n",
    "NUM_TOPICS=50\n",
    "\n",
    "# convert format\n",
    "$MALLET import-file --input $INPUT --output $MALLET_FILE --keep-sequence --remove-stopwords\n",
    "# train\n",
    "$MALLET train-topics --input $MALLET_FILE --num-topics $NUM_TOPICS --num-top-words 10 --output-topic-keys $OUTPUT_TOPIC_KEYS --output-doc-topics $OUTPUT_DOC_TOPICS --num-iterations $NUM_ITER --optimize-interval 10\n",
    "\n",
    "rm $MALLET_FILE"
   ]
  },
  {
   "cell_type": "code",
   "execution_count": null,
   "metadata": {},
   "outputs": [],
   "source": [
    "topic_keys_file = \"./all_attack_tweet_texts_topic_keys.txt\"\n",
    "topic_keys_coding_file = \"./all_attack_tweet_texts_topic_keys_coding_init.csv\"\n",
    "\n",
    "topic_keys = []\n",
    "\n",
    "with open(topic_keys_file, 'r') as f:\n",
    "    for line in f:\n",
    "        tid, _, keys = line.strip().split(\"\\t\")\n",
    "        topic_keys.append((tid, keys))\n",
    "        \n",
    "with open(topic_keys_coding_file, 'w') as f:\n",
    "    f.write(\"{}, {}, {}\\n\".format(\"tid\", \"keys\", \"is_policy\"))\n",
    "    for tk in topic_keys:\n",
    "        tid, keys = tk\n",
    "        f.write(\"{}, {}, {}\\n\".format(tid, keys, \"\"))"
   ]
  },
  {
   "cell_type": "code",
   "execution_count": null,
   "metadata": {},
   "outputs": [],
   "source": [
    "topic_keys_coding_file = \"./data/all_attack_tweet_texts_topic_keys_coding.csv\"\n",
    "doc_topics_file = \"./all_attack_tweet_texts_doc_topics.txt\"\n",
    "\n",
    "argmax = lambda x: max(enumerate(x), key = lambda y: y[1])[0]\n",
    "\n",
    "topic_codings = {}\n",
    "with open(topic_keys_coding_file, 'r') as f:\n",
    "    f.readline()\n",
    "    for line in f:\n",
    "        tid, _, is_policy = line.strip().split(\",\")\n",
    "        topic_codings[int(tid)] = int(is_policy) == 1\n",
    "        \n",
    "is_policies = []\n",
    "tid_assignments = []\n",
    "with open(doc_topics_file, 'r') as f:\n",
    "    for line in f:\n",
    "        tid_assignment = argmax([float(x) for x in line.strip().split(\"\\t\")[2:]])\n",
    "        is_policy = topic_codings[tid_assignment]\n",
    "        is_policies.append(is_policy)\n",
    "        tid_assignments.append(tid_assignment)"
   ]
  },
  {
   "cell_type": "code",
   "execution_count": null,
   "metadata": {},
   "outputs": [],
   "source": [
    "for ai, p, t in zip(attacking_index, is_policies, tid_assignments):\n",
    "    text = tweets[ai]['text']\n",
    "    if not p:\n",
    "        print(text)\n",
    "        print(t)\n",
    "        print()"
   ]
  }
 ],
 "metadata": {
  "kernelspec": {
   "display_name": "Python 3",
   "language": "python",
   "name": "python3"
  },
  "language_info": {
   "codemirror_mode": {
    "name": "ipython",
    "version": 3
   },
   "file_extension": ".py",
   "mimetype": "text/x-python",
   "name": "python",
   "nbconvert_exporter": "python",
   "pygments_lexer": "ipython3",
   "version": "3.7.4"
  },
  "pycharm": {
   "stem_cell": {
    "cell_type": "raw",
    "metadata": {
     "collapsed": false
    },
    "source": []
   }
  }
 },
 "nbformat": 4,
 "nbformat_minor": 1
}
