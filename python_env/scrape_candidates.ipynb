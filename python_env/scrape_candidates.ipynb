{
 "cells": [
  {
   "cell_type": "code",
   "execution_count": 62,
   "outputs": [],
   "source": [
    "pywikibot_dir = \"./library/pywikibot/\"\n",
    "\n",
    "import os\n",
    "os.environ[\"PYWIKIBOT_DIR\"] = pywikibot_dir\n",
    "os.environ[\"LANG\"]=\"en_US.UTF-8\"\n",
    "os.environ[\"LC_ALL\"]=\"en_US.UTF-8\"\n",
    "\n",
    "import pywikibot\n",
    "import mwparserfromhell as wiki_parser\n",
    "\n",
    "\n",
    "def get_page_content(page_name):\n",
    "    site = pywikibot.Site('en', 'wikipedia')\n",
    "    page = pywikibot.Page(site, page_name)\n",
    "    return page.text\n",
    "\n",
    "\n",
    "def get_table_from_content(content):\n",
    "    wikicode = wiki_parser.parse(content)\n",
    "    summary = wikicode.get_sections(matches=\"Race summary\")[0]\n",
    "    state_summary = summary.get_sections(matches=\"States\")[0]\n",
    "    table = state_summary.filter(matches=\"wikitable\")[0]\n",
    "    rows = table.contents.nodes\n",
    "    return rows\n",
    "    \n",
    "def extract_results_from_table(rows):\n",
    "    results = []\n",
    "    for row in rows[1:]:\n",
    "        cells = row.contents.nodes\n",
    "        state = cells[0].contents.strip_code().strip()\n",
    "        incumbent = cells[1].contents.strip_code().strip()\n",
    "        party = cells[2].contents.strip_code().strip()\n",
    "        incumbent_party = tuple([incumbent, party])\n",
    "        candidates_cell = cells[4].contents.strip_code().strip()\n",
    "        candidates = extract_status_from_cell(candidates_cell)\n",
    "        results.append((state, incumbent_party, candidates))\n",
    "    return results\n",
    "\n",
    "\n",
    "content = get_page_content(\"2014_United_States_gubernatorial_elections\")\n",
    "table = get_table_from_content(content)\n",
    "candidates = extract_results_from_table(table)"
   ],
   "metadata": {
    "collapsed": false,
    "pycharm": {
     "name": "#%%\n",
     "is_executing": false
    }
   }
  },
  {
   "cell_type": "code",
   "execution_count": 64,
   "outputs": [],
   "source": [
    "from nltk.tokenize import RegexpTokenizer\n",
    "\n",
    "def extract_status_from_cell(cell_text):\n",
    "    \"\"\"\n",
    "    Extracts the candidates in the race from string.\n",
    "    :return: a list of (candidate, party, elected)\n",
    "    \"\"\"\n",
    "    tokenizer = RegexpTokenizer(\".+?\\(.+?\\)\")\n",
    "    tokens = tokenizer.tokenize(cell_text)\n",
    "    \n",
    "    res = set()\n",
    "    for token in tokens:\n",
    "        token = token.strip()\n",
    "        elected = token.startswith('√')\n",
    "        if elected:\n",
    "            token = token.strip('√').strip()\n",
    "        # remove percentages\n",
    "        if '%' in token:\n",
    "            token = token.split('%')[1].strip()\n",
    "        \n",
    "        # extract name & party\n",
    "        parts = token.split(\"(\")\n",
    "        party = parts[-1].strip()[:-1]\n",
    "        candidate = parts[0].strip()\n",
    "        res.add((candidate, party, elected))\n",
    "        \n",
    "    return res\n",
    "        \n",
    "            \n",
    "            \n",
    "    \n",
    "    "
   ],
   "metadata": {
    "collapsed": false,
    "pycharm": {
     "name": "#%%\n",
     "is_executing": false
    }
   }
  },
  {
   "cell_type": "code",
   "execution_count": 63,
   "outputs": [
    {
     "data": {
      "text/plain": "[('Alabama',\n  ('Robert Bentley', 'Republican'),\n  {('Parker Griffith', 'D', False), ('Robert Bentley', 'R', True)}),\n ('Alaska',\n  ('Sean Parnell', 'Republican'),\n  {('Bill Walker', 'I', True),\n   ('Carolyn Clift', 'L', False),\n   ('J. R. Myers', 'Constitution', False),\n   ('Sean Parnell', 'R', False)}),\n ('Arizona',\n  ('Jan Brewer', 'Republican'),\n  {('Barry Hess', 'L', False),\n   ('Doug Ducey', 'R', True),\n   ('Fred DuVal', 'D', False),\n   ('John Mealer', 'Americans Elect', False)}),\n ('Arkansas',\n  ('Mike Beebe', 'Democratic'),\n  {('Asa Hutchinson', 'R', True),\n   ('Frank Gilbert', 'L', False),\n   ('Josh Drake', 'Green', False),\n   ('Mike Ross', 'D', False)}),\n ('California',\n  ('Jerry Brown', 'Democratic'),\n  {('Jerry Brown', 'D', True), ('Neel Kashkari', 'R', False)}),\n ('Colorado',\n  ('John Hickenlooper', 'Democratic'),\n  {('Bob Beauprez', 'R', False),\n   ('Harry Hempy', 'Green', False),\n   ('Jim Rundberg', 'I', False),\n   ('John Hickenlooper', 'D', True),\n   ('Matthew Hess', 'L', False),\n   ('Mike Dunafon', 'I', False),\n   ('Paul Fiorino', 'I', False)}),\n ('Connecticut',\n  ('Dan Malloy', 'Democratic'),\n  {('Dan Malloy', 'D', True),\n   ('Joe Visconti', 'I', False),\n   ('Lee Whitnum', 'I', False),\n   ('Tom Foley', 'R', False)}),\n ('Florida',\n  ('Rick Scott', 'Republican'),\n  {('Adrian Wyllie', 'L', False),\n   ('Charlie Crist', 'D', False),\n   ('Farid Khavari', 'No Party Affiliation', False),\n   ('Glenn Burkett', 'No Party Affiliation', False),\n   ('Joe Allen', 'No Party Affiliation', False),\n   ('Rick Scott', 'R', True)}),\n ('Georgia',\n  ('Nathan Deal', 'Republican'),\n  {('Andrew Hunt', 'L', False),\n   ('Jason Carter', 'D', False),\n   ('Nathan Deal', 'R', True)}),\n ('Hawaii',\n  ('Neil Abercrombie', 'Democratic'),\n  {('David Ige', 'D', True),\n   ('Duke Aiona', 'R', False),\n   ('Jeff Davis', 'L', False),\n   ('Mufi Hannemann', 'Hawaii Independent', False)}),\n ('Idaho',\n  ('Butch Otter', 'Republican'),\n  {('', 'I', False),\n   ('A.J. Balukoff', 'D', False),\n   ('Butch Otter', 'R', True),\n   ('Jill Humble', 'I', False),\n   ('John Bujak', 'L', False),\n   ('Pro-Life', 'Marvin Richardson', False),\n   ('Steve Pankey', 'Constitution', False)}),\n ('Illinois',\n  ('Pat Quinn', 'Democratic'),\n  {('Bruce Rauner', 'R', True),\n   ('Chad Grimm', 'L', False),\n   ('Pat Quinn', 'D', False)}),\n ('Iowa',\n  ('Terry Branstad', 'Republican'),\n  {('David Rosenfeld', 'Socialist Workers', False),\n   ('Jack Hatch', 'D', False),\n   ('Lee Hieb', 'L', False),\n   ('Terry Branstad', 'R', True)}),\n ('Kansas',\n  ('Sam Brownback', 'Republican'),\n  {('Keen Umbehr', 'L', False),\n   ('Paul Davis', 'D', False),\n   ('Sam Brownback', 'R', True)}),\n ('Maine',\n  ('Paul LePage', 'Republican'),\n  {('Eliot Cutler', 'Unenrolled', False),\n   ('Mike Michaud', 'D', False),\n   ('Paul LePage', 'R', True)}),\n ('Maryland',\n  (\"Martin O'Malley\", 'Democratic'),\n  {('Anthony Brown', 'D', False),\n   ('Larry Hogan', 'R', True),\n   ('Shawn Quinn', 'L', False)}),\n ('Massachusetts',\n  ('Deval Patrick', 'Democratic'),\n  {('Charlie Baker', 'R', True),\n   ('Evan Falchuk', 'United Independent', False),\n   ('Jeff McCormick', 'I', False),\n   ('Martha Coakley', 'D', False),\n   ('Scott Lively', 'I', False)}),\n ('Michigan',\n  ('Rick Snyder', 'Republican'),\n  {('Mark Schauer', 'D', False),\n   ('Mary Buzuma', 'L', False),\n   ('Paul Homeniuk', 'G', False),\n   ('Rick Snyder', 'R', True),\n   ('Robin Sanders', 'I', False)}),\n ('Minnesota',\n  ('Mark Dayton', 'Democratic–Farmer–Labor'),\n  {('Chris Holbrook', 'L', False),\n   ('Chris Wright', 'Grass Roots', False),\n   ('Hannah Nicollet', 'Independence', False),\n   ('Jeff Johnson', 'R', False),\n   ('Mark Dayton', 'DFL', True)}),\n ('Nebraska',\n  ('Dave Heineman', 'Republican'),\n  {('Chuck Hassebrook', 'D', False),\n   ('Mark Elworth', 'L', False),\n   ('Pete Ricketts', 'R', True)}),\n ('Nevada',\n  ('Brian Sandoval', 'Republican'),\n  {('Brian Sandoval', 'R', True),\n   ('David VanDerBeek', 'Independent American', False),\n   ('Robert Goodman', 'D', False)}),\n ('New Hampshire',\n  ('Maggie Hassan', 'Democratic'),\n  {('Maggie Hassan', 'D', True), ('Walt Havenstein', 'R', False)}),\n ('New Mexico',\n  ('Susana Martinez', 'Republican'),\n  {('Gary King', 'D', False), ('Susana Martinez', 'R', True)}),\n ('New York',\n  ('Andrew Cuomo', 'Democratic'),\n  {('Andrew Cuomo', 'D', True),\n   ('Howie Hawkins', 'G', False),\n   ('Michael McDermott', 'L', False),\n   ('Rob Astorino', 'R', False)}),\n ('Ohio',\n  ('John Kasich', 'Republican'),\n  {('Anita Rios', 'G', False),\n   ('Ed FitzGerald', 'D', False),\n   ('John Kasich', 'R', True)}),\n ('Oklahoma',\n  ('Mary Fallin', 'Republican'),\n  {('Joe Dorman', 'D', False),\n   ('Mary Fallin', 'R', True),\n   ('Richard Prawdzienski', 'L, running as I', False)}),\n ('Oregon',\n  ('John Kitzhaber', 'Democratic'),\n  {('Aaron Auer', 'Constitution', False),\n   ('Dennis Richardson', 'R', False),\n   ('John Kitzhaber', 'D', True),\n   ('Paul Grad', 'Libertarian', False)}),\n ('Pennsylvania',\n  ('Tom Corbett', 'Republican'),\n  {('Tom Corbett', 'R', False), ('Tom Wolf', 'D', True)}),\n ('Rhode Island',\n  ('Lincoln Chafee', 'Democratic'),\n  {('Allan Fung', 'R', False),\n   ('Bob Healey', 'Moderate', False),\n   ('Gina Raimondo', 'D', True),\n   ('Kate Fletcher', 'I', False),\n   ('Leon Kayarian', 'I', False)}),\n ('South Carolina',\n  ('Nikki Haley', 'Republican'),\n  {('Morgan Reeves', 'United Citizens', False),\n   ('Nikki Haley', 'R', True),\n   ('Steve French', 'L', False),\n   ('Tom Ervin', 'I', False),\n   ('Vincent Sheheen', 'D', False)}),\n ('South Dakota',\n  ('Dennis Daugaard', 'Republican'),\n  {('Dennis Daugaard', 'R', True),\n   ('Mike Myers', 'I', False),\n   ('Susan Wismer', 'D', False)}),\n ('Tennessee',\n  ('Bill Haslam', 'Republican'),\n  {('Bill Haslam', 'R', True),\n   ('Charlie Brown', 'D', False),\n   ('Daniel Lewis', 'L', False),\n   ('Isa Infante', 'Green', False),\n   ('John Jay Hooker', 'I', False),\n   ('Shaun Crowell', 'Constitution', False),\n   ('Steve Coburn', 'I', False)}),\n ('Texas',\n  ('Rick Perry', 'Republican'),\n  {('Brandon Parmer', 'Green', False),\n   ('Greg Abbott', 'R', True),\n   ('Kathie Glass', 'L', False),\n   ('Wendy Davis', 'D', False)}),\n ('Vermont',\n  ('Peter Shumlin', 'Democratic'),\n  {('Bernard Peters', 'I', False),\n   ('Cris Ericson', 'I', False),\n   ('Dan Feliciano', 'L', False),\n   ('Emily Peyton', 'I', False),\n   ('Pete Diamondstone', 'Liberty Union', False),\n   ('Peter Shumlin', 'D', True),\n   ('Scott Milne', 'R', False)}),\n ('Wisconsin',\n  ('Scott Walker', 'Republican'),\n  {('Mary Burke', 'D', False),\n   ('Robert Burke', 'L', False),\n   ('Scott Walker', 'R', True)}),\n ('Wyoming',\n  ('Matt Mead', 'Republican'),\n  {('Dee Cozzens', 'L', False),\n   ('Don Wills', 'I', False),\n   ('Matt Mead', 'R', True),\n   ('Pete Gosar', 'D', False)})]"
     },
     "metadata": {},
     "output_type": "execute_result",
     "execution_count": 63
    }
   ],
   "source": [
    "candidates"
   ],
   "metadata": {
    "collapsed": false,
    "pycharm": {
     "name": "#%%\n",
     "is_executing": false
    }
   }
  },
  {
   "cell_type": "code",
   "execution_count": null,
   "outputs": [],
   "source": [
    "\n"
   ],
   "metadata": {
    "collapsed": false,
    "pycharm": {
     "name": "#%%\n"
    }
   }
  }
 ],
 "metadata": {
  "kernelspec": {
   "name": "conda-env-py3-py",
   "language": "python",
   "display_name": "Python [conda env:py3]"
  },
  "language_info": {
   "codemirror_mode": {
    "name": "ipython",
    "version": 2
   },
   "file_extension": ".py",
   "mimetype": "text/x-python",
   "name": "python",
   "nbconvert_exporter": "python",
   "pygments_lexer": "ipython2",
   "version": "2.7.6"
  },
  "pycharm": {
   "stem_cell": {
    "cell_type": "raw",
    "source": [],
    "metadata": {
     "collapsed": false
    }
   }
  }
 },
 "nbformat": 4,
 "nbformat_minor": 0
}